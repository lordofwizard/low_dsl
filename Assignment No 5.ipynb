{
 "cells": [
  {
   "cell_type": "markdown",
   "id": "bd97de21",
   "metadata": {},
   "source": [
    "---\n",
    "#### Question  \n",
    "\n",
    "a) Write a python program to store names and mobile numbers of your friends in sorted order on names.  \n",
    "    Search your friend from list using binary search (recursive and nonrecursive).  \n",
    "    Insert friend if not present in phonebook"
   ]
  },
  {
   "cell_type": "markdown",
   "id": "6b2345b9",
   "metadata": {},
   "source": [
    "---\n",
    "Solved by \n",
    "Name :- Pandharpurkar Advait Deepak  \n",
    "College :- Ajeenkya D. Y. Patil School of Engineering  \n",
    "Division :- SE-B  \n",
    "Roll No :- 11  \n",
    "Teacher's Name :- Prof Sheetal More.  \n",
    "\n",
    "---"
   ]
  },
  {
   "cell_type": "code",
   "execution_count": 1,
   "id": "ccba0e6a",
   "metadata": {},
   "outputs": [],
   "source": [
    "# Basic things to import\n",
    "from doctest import testmod\n",
    "import math"
   ]
  },
  {
   "cell_type": "markdown",
   "id": "155e6392",
   "metadata": {},
   "source": [
    "---\n",
    "Program  \n",
    "\n",
    "---"
   ]
  },
  {
   "cell_type": "code",
   "execution_count": 1,
   "id": "43f364b1",
   "metadata": {},
   "outputs": [],
   "source": [
    "database = {\n",
    "    1 : \"Abhi\",\n",
    "    2 : \"Bala\",\n",
    "    3 : \"Chetan\",\n",
    "    4 : \"Dinesh\",\n",
    "    5 : \"Eshan\"\n",
    "}"
   ]
  },
  {
   "cell_type": "code",
   "execution_count": 7,
   "id": "507ec30b",
   "metadata": {},
   "outputs": [],
   "source": [
    "names , contacts = [],[]"
   ]
  },
  {
   "cell_type": "code",
   "execution_count": 8,
   "id": "a0ca26b5",
   "metadata": {},
   "outputs": [],
   "source": [
    "def data_input():\n",
    "    global contacts \n",
    "    global names\n",
    "    contacts = list(database.keys())\n",
    "    names = list(database.values())"
   ]
  },
  {
   "cell_type": "code",
   "execution_count": 13,
   "id": "9ef37235",
   "metadata": {},
   "outputs": [],
   "source": [
    "def search(names : list , contacts : list, name : str):\n",
    "    start = 0\n",
    "    end = len(names)\n",
    "    flag = 0\n",
    "    while start != end:\n",
    "        mid = (start + end) // 2\n",
    "        if(names[mid] == name):\n",
    "            print(\"Student name = \", names[mid] , \"\\nContact No = \", contacts[mid])\n",
    "            flag = 1\n",
    "            break\n",
    "        elif(names[mid] < name):\n",
    "            start = mid + 1\n",
    "            continue\n",
    "        else:\n",
    "            end = mid\n",
    "            continue\n",
    "    if flag == 0:\n",
    "        print(\"Member not present in the array\")\n",
    "        name = input(\"Please enter Name for new entry > \")\n",
    "        no = input(\"Please enter Contact NO of that person > \")\n",
    "        database[no] = name"
   ]
  },
  {
   "cell_type": "code",
   "execution_count": 15,
   "id": "765857d8",
   "metadata": {},
   "outputs": [
    {
     "name": "stdout",
     "output_type": "stream",
     "text": [
      "Student name =  Chetan \n",
      "Contact No =  3\n"
     ]
    }
   ],
   "source": [
    "data_input()\n",
    "search(names,contacts,\"Chetan\") "
   ]
  },
  {
   "cell_type": "code",
   "execution_count": null,
   "id": "cf611860",
   "metadata": {},
   "outputs": [],
   "source": []
  }
 ],
 "metadata": {
  "kernelspec": {
   "display_name": "Python 3 (ipykernel)",
   "language": "python",
   "name": "python3"
  },
  "language_info": {
   "codemirror_mode": {
    "name": "ipython",
    "version": 3
   },
   "file_extension": ".py",
   "mimetype": "text/x-python",
   "name": "python",
   "nbconvert_exporter": "python",
   "pygments_lexer": "ipython3",
   "version": "3.9.7"
  }
 },
 "nbformat": 4,
 "nbformat_minor": 5
}

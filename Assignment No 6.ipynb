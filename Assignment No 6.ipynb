{
 "cells": [
  {
   "cell_type": "markdown",
   "id": "bd97de21",
   "metadata": {},
   "source": [
    "---\n",
    "#### Question  \n",
    "\n",
    "Write a python program to store first year percentage of students in array.  \n",
    "Write function for sorting array of floating point numbers in ascending order using  \n",
    "a) Selection Sort  \n",
    "b) Bubble sort and display top five scores.  "
   ]
  },
  {
   "cell_type": "markdown",
   "id": "6b2345b9",
   "metadata": {},
   "source": [
    "---\n",
    "Solved by \n",
    "Name :- Pandharpurkar Advait Deepak  \n",
    "College :- Ajeenkya D. Y. Patil School of Engineering  \n",
    "Division :- SE-B  \n",
    "Roll No :- 11  \n",
    "Teacher's Name :- Prof Sheetal More.  \n",
    "\n",
    "---"
   ]
  },
  {
   "cell_type": "code",
   "execution_count": 1,
   "id": "ccba0e6a",
   "metadata": {},
   "outputs": [],
   "source": [
    "# Basic things to import\n",
    "from doctest import testmod\n",
    "import math"
   ]
  },
  {
   "cell_type": "markdown",
   "id": "155e6392",
   "metadata": {},
   "source": [
    "---\n",
    "Program  \n",
    "\n",
    "---"
   ]
  },
  {
   "cell_type": "code",
   "execution_count": 2,
   "id": "43f364b1",
   "metadata": {},
   "outputs": [],
   "source": [
    "def selection_sort(arr : list) -> list:\n",
    "    \"\"\"This function takes arr (list) input and returns a sorted list\n",
    "    \n",
    "    >>> selection_sort([9,8,7,6,5,4,3,2,1])\n",
    "    [1, 2, 3, 4, 5, 6, 7, 8, 9]\n",
    "    \n",
    "    >>> selection_sort([3,2,1])\n",
    "    [1, 2, 3]\n",
    "    \n",
    "    >>> selection_sort([5,6,7,1,2,3])\n",
    "    [1, 2, 3, 5, 6, 7]\n",
    "    \"\"\"\n",
    "    for i in range(len(arr)):\n",
    "        for j in range(i+1,len(arr)):\n",
    "            if arr[j] < arr[i]:\n",
    "                arr[j],arr[i] = arr[i], arr[j]\n",
    "    return arr"
   ]
  },
  {
   "cell_type": "code",
   "execution_count": 3,
   "id": "fc6d36fc",
   "metadata": {},
   "outputs": [],
   "source": [
    "def bubble_sort(arr : list) -> list:\n",
    "    \"\"\"This function takes arr (list) input and returns a sorted list\n",
    "    \n",
    "    >>> bubble_sort([9,8,7,6,5,4,3,2,1])\n",
    "    [1, 2, 3, 4, 5, 6, 7, 8, 9]\n",
    "    \n",
    "    >>> bubble_sort([3,2,1])\n",
    "    [1, 2, 3]\n",
    "    \n",
    "    >>> bubble_sort([5,6,7,1,2,3])\n",
    "    [1, 2, 3, 5, 6, 7]\n",
    "    \"\"\"\n",
    "    for i in range(0,len(arr)-1):\n",
    "        for j in range(len(arr)-1):  \n",
    "            if(arr[j]>arr[j+1]):  \n",
    "                arr[j],arr[j+1] = arr[j+1],arr[j]\n",
    "    return arr"
   ]
  },
  {
   "cell_type": "code",
   "execution_count": 4,
   "id": "18bbb07e",
   "metadata": {},
   "outputs": [],
   "source": [
    "def user_input() -> list:\n",
    "    length = int(input(\"Enter the length / no of students > \"))\n",
    "    studs = []\n",
    "    for i in range(length):\n",
    "        stud = int(input(f\"Stud no {i+1} > \"))\n",
    "        studs.append(studs)\n",
    "    return studs"
   ]
  },
  {
   "cell_type": "code",
   "execution_count": 7,
   "id": "75491cb9",
   "metadata": {},
   "outputs": [],
   "source": [
    "# Just for example we are taking this random array of marks\n",
    "marks = [92,15,62,75,99,64,8,3,73,89,33,45,87]"
   ]
  },
  {
   "cell_type": "code",
   "execution_count": 8,
   "id": "d2d78fd2",
   "metadata": {},
   "outputs": [
    {
     "data": {
      "text/plain": [
       "[3, 8, 15, 33, 45, 62, 64, 73, 75, 87, 89, 92, 99]"
      ]
     },
     "execution_count": 8,
     "metadata": {},
     "output_type": "execute_result"
    }
   ],
   "source": [
    "bubble_sort(marks)"
   ]
  },
  {
   "cell_type": "code",
   "execution_count": 9,
   "id": "65e30b56",
   "metadata": {},
   "outputs": [
    {
     "data": {
      "text/plain": [
       "[3, 8, 15, 33, 45, 62, 64, 73, 75, 87, 89, 92, 99]"
      ]
     },
     "execution_count": 9,
     "metadata": {},
     "output_type": "execute_result"
    }
   ],
   "source": [
    "selection_sort(marks)"
   ]
  },
  {
   "cell_type": "code",
   "execution_count": 14,
   "id": "2145147f",
   "metadata": {},
   "outputs": [
    {
     "name": "stdout",
     "output_type": "stream",
     "text": [
      "[75, 87, 89, 92, 99]\n",
      "[75, 87, 89, 92, 99]\n"
     ]
    }
   ],
   "source": [
    "def top_five(sorted_arr : list):\n",
    "    \"\"\"Returns the top 5 scores from the collection\"\"\"\n",
    "    if len(sorted_arr) < 5:\n",
    "        print(\"Cant possible priting this array, as elements are less than 5\")\n",
    "        print(sorted_arr)\n",
    "    else:\n",
    "        print(sorted_arr[-5:])\n",
    "top_five(bubble_sort(marks))\n",
    "top_five(selection_sort(marks))"
   ]
  },
  {
   "cell_type": "code",
   "execution_count": null,
   "id": "484feda5",
   "metadata": {},
   "outputs": [],
   "source": []
  }
 ],
 "metadata": {
  "kernelspec": {
   "display_name": "Python 3 (ipykernel)",
   "language": "python",
   "name": "python3"
  },
  "language_info": {
   "codemirror_mode": {
    "name": "ipython",
    "version": 3
   },
   "file_extension": ".py",
   "mimetype": "text/x-python",
   "name": "python",
   "nbconvert_exporter": "python",
   "pygments_lexer": "ipython3",
   "version": "3.9.7"
  }
 },
 "nbformat": 4,
 "nbformat_minor": 5
}

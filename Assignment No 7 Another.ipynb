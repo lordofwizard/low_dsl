{
 "cells": [
  {
   "cell_type": "markdown",
   "id": "bd97de21",
   "metadata": {},
   "source": [
    "---\n",
    "#### Question  \n"
   ]
  },
  {
   "cell_type": "markdown",
   "id": "6b2345b9",
   "metadata": {},
   "source": [
    "---\n",
    "Solved by \n",
    "Name :- Pandharpurkar Advait Deepak  \n",
    "College :- Ajeenkya D. Y. Patil School of Engineering  \n",
    "Division :- SE-B  \n",
    "Roll No :- 11  \n",
    "Teacher's Name :- Prof Sheetal More.  \n",
    "\n",
    "---"
   ]
  },
  {
   "cell_type": "code",
   "execution_count": 1,
   "id": "ccba0e6a",
   "metadata": {},
   "outputs": [],
   "source": [
    "# Basic things to import\n",
    "from doctest import testmod\n",
    "import math"
   ]
  },
  {
   "cell_type": "markdown",
   "id": "155e6392",
   "metadata": {},
   "source": [
    "---\n",
    "Program  \n",
    "\n",
    "---"
   ]
  },
  {
   "cell_type": "code",
   "execution_count": null,
   "id": "43f364b1",
   "metadata": {},
   "outputs": [],
   "source": []
  }
 ],
 "metadata": {
  "kernelspec": {
   "display_name": "Python 3 (ipykernel)",
   "language": "python",
   "name": "python3"
  },
  "language_info": {
   "codemirror_mode": {
    "name": "ipython",
    "version": 3
   },
   "file_extension": ".py",
   "mimetype": "text/x-python",
   "name": "python",
   "nbconvert_exporter": "python",
   "pygments_lexer": "ipython3",
   "version": "3.9.7"
  }
 },
 "nbformat": 4,
 "nbformat_minor": 5
}

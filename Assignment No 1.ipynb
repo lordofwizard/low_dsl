{
 "cells": [
  {
   "cell_type": "markdown",
   "id": "bd97de21",
   "metadata": {},
   "source": [
    "In second year computer engineering class, group A student’s play cricket, group B\n",
    "students play badminton and group C students play football.\n",
    "Write a Python program using functions to compute following: -\n",
    "a) List of students who play both cricket and badminton  \n",
    "b) List of students who play either cricket or badminton but not both  \n",
    "c) Number of students who play neither cricket nor badminton  \n",
    "d) Number of students who play cricket and football but not badminton.  \n",
    "(Note- While realizing the group, duplicate entries should be avoided, Do not use SETbuilt-in functions)  \n"
   ]
  },
  {
   "cell_type": "markdown",
   "id": "6b2345b9",
   "metadata": {},
   "source": [
    "---\n",
    "Solved by \n",
    "Name :- Pandharpurkar Advait Deepak  \n",
    "College :- Ajeenkya D. Y. Patil School of Engineering  \n",
    "Division :- SE-B  \n",
    "Roll No :- 11  \n",
    "Teacher's Name :- Prof Sheetal More.  \n",
    "\n",
    "---"
   ]
  },
  {
   "cell_type": "code",
   "execution_count": 1,
   "id": "ccba0e6a",
   "metadata": {},
   "outputs": [],
   "source": [
    "# Basic things to import\n",
    "from doctest import testmod\n",
    "import math"
   ]
  },
  {
   "cell_type": "code",
   "execution_count": 8,
   "id": "a680f67a",
   "metadata": {},
   "outputs": [],
   "source": [
    "group_a = [ # Cricket\n",
    "    \"Advait\",\n",
    "    \"Deepak\",\n",
    "    \"Simran\",\n",
    "    \"Nivedita\",\n",
    "    \"Gaurav\",\n",
    "    \"Asra\",\n",
    "    \"Indrawadan\",\n",
    "    \"Aditya\"\n",
    "]\n",
    "group_b = [ # Badminton\n",
    "    \"Simran\",\n",
    "    \"Nivedita\",\n",
    "    \"Asra\"\n",
    "]\n",
    "group_c = [ # Football\n",
    "    \"Advait\",\n",
    "    \"Deepak\",\n",
    "    \"Indrawadan\",\n",
    "    \"Aditya\",\n",
    "    \"Sahil\"\n",
    "]"
   ]
  },
  {
   "cell_type": "code",
   "execution_count": 3,
   "id": "3573610a",
   "metadata": {},
   "outputs": [
    {
     "name": "stdout",
     "output_type": "stream",
     "text": [
      "['Simran', 'Nivedita', 'Asra']\n"
     ]
    }
   ],
   "source": [
    "# a) List of students who play both cricket and badminton\n",
    "answer = []\n",
    "for person in group_a:\n",
    "    if person in group_b:\n",
    "        answer.append(person)\n",
    "print(answer)"
   ]
  },
  {
   "cell_type": "code",
   "execution_count": 6,
   "id": "4f136b86",
   "metadata": {},
   "outputs": [
    {
     "name": "stdout",
     "output_type": "stream",
     "text": [
      "['Advait', 'Deepak', 'Gaurav', 'Indrawadan', 'Aditya']\n"
     ]
    }
   ],
   "source": [
    "# b) List of students who play either cricket or badminton but not both\n",
    "answer = []\n",
    "for person in group_a:\n",
    "    if person not in group_b:\n",
    "        answer.append(person)\n",
    "for person in group_b:\n",
    "    if person not in group_a:\n",
    "        answer.append(person)\n",
    "\n",
    "print(answer)"
   ]
  },
  {
   "cell_type": "code",
   "execution_count": 15,
   "id": "219a1fc8",
   "metadata": {},
   "outputs": [
    {
     "name": "stdout",
     "output_type": "stream",
     "text": [
      "1\n"
     ]
    }
   ],
   "source": [
    "# c) Number of students who play neither cricket nor badminton\n",
    "answer = []\n",
    "for person in group_c:\n",
    "    if (person not in group_a) and (person not in group_b):\n",
    "        answer.append(person)\n",
    "print(len(answer))"
   ]
  },
  {
   "cell_type": "code",
   "execution_count": 14,
   "id": "719f189e",
   "metadata": {},
   "outputs": [
    {
     "name": "stdout",
     "output_type": "stream",
     "text": [
      "4\n"
     ]
    }
   ],
   "source": [
    "# d) Number of students who play cricket and football but not badminton. \n",
    "answer = []\n",
    "for person in group_a:\n",
    "    if (person in group_c) and (person not in group_b):\n",
    "        answer.append(person)\n",
    "print(len(answer))"
   ]
  },
  {
   "cell_type": "code",
   "execution_count": null,
   "id": "57b99e89",
   "metadata": {},
   "outputs": [],
   "source": []
  }
 ],
 "metadata": {
  "kernelspec": {
   "display_name": "Python 3 (ipykernel)",
   "language": "python",
   "name": "python3"
  },
  "language_info": {
   "codemirror_mode": {
    "name": "ipython",
    "version": 3
   },
   "file_extension": ".py",
   "mimetype": "text/x-python",
   "name": "python",
   "nbconvert_exporter": "python",
   "pygments_lexer": "ipython3",
   "version": "3.9.7"
  }
 },
 "nbformat": 4,
 "nbformat_minor": 5
}

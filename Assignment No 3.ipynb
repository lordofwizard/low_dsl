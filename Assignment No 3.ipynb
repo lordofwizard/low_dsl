{
 "cells": [
  {
   "cell_type": "markdown",
   "id": "bd97de21",
   "metadata": {},
   "source": [
    "---\n",
    "#### Question  \n",
    "Write a Python program to compute following operations on String:  \n",
    "a) To display word with the longest length  \n",
    "b) To determines the frequency of occurrence of particular character in the string  \n",
    "c) To check whether given string is palindrome or not  \n",
    "d) To display index of first appearance of the substring  \n",
    "e) To count the occurrences of each word in a given string  "
   ]
  },
  {
   "cell_type": "markdown",
   "id": "6b2345b9",
   "metadata": {},
   "source": [
    "---\n",
    "Solved by \n",
    "Name :- Pandharpurkar Advait Deepak  \n",
    "College :- Ajeenkya D. Y. Patil School of Engineering  \n",
    "Division :- SE-B  \n",
    "Roll No :- 11  \n",
    "Teacher's Name :- Prof Sheetal More.  \n",
    "\n",
    "---"
   ]
  },
  {
   "cell_type": "code",
   "execution_count": 13,
   "id": "ccba0e6a",
   "metadata": {},
   "outputs": [],
   "source": [
    "# Basic things to import\n",
    "from doctest import testmod\n",
    "import math"
   ]
  },
  {
   "cell_type": "markdown",
   "id": "155e6392",
   "metadata": {},
   "source": [
    "---\n",
    "Program  \n",
    "\n",
    "---"
   ]
  },
  {
   "cell_type": "code",
   "execution_count": 20,
   "id": "43f364b1",
   "metadata": {},
   "outputs": [],
   "source": [
    "def longest_word(string : str) -> str:\n",
    "    \"\"\"Function that returns a string with longest word\n",
    "    >>> longest_word(\"Hello my name is Advait Deepak Pandharpurkar , and i hate Traditional Engineering\")\n",
    "    'Pandharpurkar'\n",
    "    \n",
    "    >>> longest_word(\"Indrawadan Satish Yelwande\")\n",
    "    'Indrawadan'\n",
    "    \n",
    "    >>> longest_word(\"Advait is a good student, But he is a very good programmer\")\n",
    "    'programmer'\n",
    "    \"\"\"\n",
    "    string = string.split(\" \")\n",
    "    longest = string[0]\n",
    "    for i in range(1,len(string)):\n",
    "        if len(longest) < len(string[i]):\n",
    "            longest = string[i]\n",
    "    return longest"
   ]
  },
  {
   "cell_type": "code",
   "execution_count": 35,
   "id": "c886d4eb",
   "metadata": {},
   "outputs": [],
   "source": [
    "def no_of_occur(string : str) -> dict:\n",
    "    \"\"\" Returns a dictionary with \n",
    "    Part being the character\n",
    "    and key being the no of occurance\n",
    "    \n",
    "    >>> no_of_occur(\"Advait is awesome btw\")\n",
    "    {'A': 1, 'd': 1, 'v': 1, 'a': 2, 'i': 2, 't': 2, ' ': 3, 's': 2, 'w': 2, 'e': 2, 'o': 1, 'm': 1, 'b': 1}\n",
    "    \"\"\"\n",
    "    answer = {}\n",
    "    for char in string:\n",
    "        if char in answer:\n",
    "            answer[char] += 1\n",
    "        else:\n",
    "            answer[char] = 1\n",
    "    return answer\n"
   ]
  },
  {
   "cell_type": "code",
   "execution_count": 68,
   "id": "4a3b43d9",
   "metadata": {},
   "outputs": [],
   "source": [
    "def palindrome(string : str) -> bool:\n",
    "    \"\"\"Return a boolean value based on if the given string is palindrome on not\n",
    "    Palindrome is basically a word that if we reverse it, it will still be same\n",
    "    \n",
    "    >>> palindrome(\"advait\")\n",
    "    False\n",
    "    \n",
    "    >>> palindrome(\"nitin\")\n",
    "    True\n",
    "    \n",
    "    >>> palindrome(\"mom\")\n",
    "    True\n",
    "    \n",
    "    >>> palindrome(\"Nitin\")\n",
    "    False\n",
    "    \"\"\"\n",
    "    return string == string[::-1]"
   ]
  },
  {
   "cell_type": "code",
   "execution_count": 77,
   "id": "711817cc",
   "metadata": {},
   "outputs": [],
   "source": [
    "def first_occurrence(string : str, substring : str) -> int:\n",
    "    \"\"\"A function that returns \n",
    "    >>> first_occurrence(\"Advait is great yk\", \"yk\")\n",
    "    16\n",
    "    \n",
    "    >>> first_occurrence(\"What is your name\", \"name\")\n",
    "    13\n",
    "    \"\"\"\n",
    "    \n",
    "    for i in range(len(string) - len(substring)+1):\n",
    "        if string[i:i+len(substring)] == substring:\n",
    "            return i\n",
    "    return -1"
   ]
  },
  {
   "cell_type": "code",
   "execution_count": 83,
   "id": "a375982e",
   "metadata": {},
   "outputs": [],
   "source": [
    "def no_of_word_occur(string : str) -> dict:\n",
    "    \"\"\" Returns a dictionary with \n",
    "    Part being the character\n",
    "    and key being the no of occurance\n",
    "    \n",
    "    >>> no_of_word_occur(\"Advait is awesome\")\n",
    "    {'Advait': 1, 'is': 1, 'awesome': 1}\n",
    "    \n",
    "    >>> no_of_word_occur(\"life is short\")\n",
    "    {'life': 1, 'is': 1, 'short': 1}\n",
    "    \n",
    "    \"\"\"\n",
    "    answer = {}\n",
    "    for word in string.split(\" \"):\n",
    "        if word in answer:\n",
    "            answer[word] += 1\n",
    "        else:\n",
    "            answer[word] = 1\n",
    "    return answer"
   ]
  },
  {
   "cell_type": "code",
   "execution_count": 84,
   "id": "3030cd2e",
   "metadata": {
    "scrolled": true
   },
   "outputs": [
    {
     "name": "stdout",
     "output_type": "stream",
     "text": [
      "Trying:\n",
      "    first_occurrence(\"Advait is great yk\", \"yk\")\n",
      "Expecting:\n",
      "    16\n",
      "ok\n",
      "Trying:\n",
      "    first_occurrence(\"What is your name\", \"name\")\n",
      "Expecting:\n",
      "    13\n",
      "ok\n",
      "Trying:\n",
      "    longest_word(\"Hello my name is Advait Deepak Pandharpurkar , and i hate Traditional Engineering\")\n",
      "Expecting:\n",
      "    'Pandharpurkar'\n",
      "ok\n",
      "Trying:\n",
      "    longest_word(\"Indrawadan Satish Yelwande\")\n",
      "Expecting:\n",
      "    'Indrawadan'\n",
      "ok\n",
      "Trying:\n",
      "    longest_word(\"Advait is a good student, But he is a very good programmer\")\n",
      "Expecting:\n",
      "    'programmer'\n",
      "ok\n",
      "Trying:\n",
      "    no_of_occur(\"Advait is awesome btw\")\n",
      "Expecting:\n",
      "    {'A': 1, 'd': 1, 'v': 1, 'a': 2, 'i': 2, 't': 2, ' ': 3, 's': 2, 'w': 2, 'e': 2, 'o': 1, 'm': 1, 'b': 1}\n",
      "ok\n",
      "Trying:\n",
      "    no_of_word_occur(\"Advait is awesome\")\n",
      "Expecting:\n",
      "    {'Advait': 1, 'is': 1, 'awesome': 1}\n",
      "ok\n",
      "Trying:\n",
      "    no_of_word_occur(\"life is short\")\n",
      "Expecting:\n",
      "    {'life': 1, 'is': 1, 'short': 1}\n",
      "ok\n",
      "Trying:\n",
      "    palindrome(\"advait\")\n",
      "Expecting:\n",
      "    False\n",
      "ok\n",
      "Trying:\n",
      "    palindrome(\"nitin\")\n",
      "Expecting:\n",
      "    True\n",
      "ok\n",
      "Trying:\n",
      "    palindrome(\"mom\")\n",
      "Expecting:\n",
      "    True\n",
      "ok\n",
      "Trying:\n",
      "    palindrome(\"Nitin\")\n",
      "Expecting:\n",
      "    False\n",
      "ok\n",
      "3 items had no tests:\n",
      "    factorial\n",
      "    factorial.first_occurence\n",
      "    factorial.first_offcurence\n",
      "5 items passed all tests:\n",
      "   2 tests in factorial.first_occurrence\n",
      "   3 tests in factorial.longest_word\n",
      "   1 tests in factorial.no_of_occur\n",
      "   2 tests in factorial.no_of_word_occur\n",
      "   4 tests in factorial.palindrome\n",
      "12 tests in 8 items.\n",
      "12 passed and 0 failed.\n",
      "Test passed.\n"
     ]
    }
   ],
   "source": [
    "if __name__ == '__main__':\n",
    "    testmod(name ='factorial', verbose = True)"
   ]
  },
  {
   "cell_type": "code",
   "execution_count": null,
   "id": "c1c59c33",
   "metadata": {},
   "outputs": [],
   "source": []
  }
 ],
 "metadata": {
  "kernelspec": {
   "display_name": "Python 3 (ipykernel)",
   "language": "python",
   "name": "python3"
  },
  "language_info": {
   "codemirror_mode": {
    "name": "ipython",
    "version": 3
   },
   "file_extension": ".py",
   "mimetype": "text/x-python",
   "name": "python",
   "nbconvert_exporter": "python",
   "pygments_lexer": "ipython3",
   "version": "3.9.7"
  }
 },
 "nbformat": 4,
 "nbformat_minor": 5
}

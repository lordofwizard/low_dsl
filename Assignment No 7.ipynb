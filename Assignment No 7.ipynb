{
 "cells": [
  {
   "cell_type": "markdown",
   "id": "bd97de21",
   "metadata": {},
   "source": [
    "---\n",
    "#### Question  \n",
    "\n",
    "Quick Sort\n"
   ]
  },
  {
   "cell_type": "markdown",
   "id": "6b2345b9",
   "metadata": {},
   "source": [
    "---\n",
    "Solved by \n",
    "Name :- Pandharpurkar Advait Deepak  \n",
    "College :- Ajeenkya D. Y. Patil School of Engineering  \n",
    "Division :- SE-B  \n",
    "Roll No :- 11  \n",
    "Teacher's Name :- Prof Sheetal More.  \n",
    "\n",
    "---"
   ]
  },
  {
   "cell_type": "code",
   "execution_count": 3,
   "id": "ccba0e6a",
   "metadata": {},
   "outputs": [],
   "source": [
    "# Basic things to import\n",
    "from doctest import testmod\n",
    "import math"
   ]
  },
  {
   "cell_type": "markdown",
   "id": "155e6392",
   "metadata": {},
   "source": [
    "---\n",
    "Program  \n",
    "\n",
    "---"
   ]
  },
  {
   "cell_type": "code",
   "execution_count": 1,
   "id": "43f364b1",
   "metadata": {},
   "outputs": [],
   "source": [
    "def quick_sort(arr):\n",
    "    \"\"\"This function takes arr (list) input and returns a sorted list\n",
    "    \n",
    "    >>> quick_sort([9,8,7,6,5,4,3,2,1])\n",
    "    [1, 2, 3, 4, 5, 6, 7, 8, 9]\n",
    "    \n",
    "    >>> quick_sort([3,2,1])\n",
    "    [1, 2, 3]\n",
    "    \n",
    "    >>> quick_sort([5,6,7,1,2,3])\n",
    "    [1, 2, 3, 5, 6, 7]\n",
    "    \"\"\"\n",
    "    if len(arr) <= 1:\n",
    "        return arr\n",
    "    pivot = arr[len(arr) // 2]\n",
    "    left = [x for x in arr if x < pivot]\n",
    "    middle = [x for x in arr if x == pivot]\n",
    "    right = [x for x in arr if x > pivot]\n",
    "    return quick_sort(left) + middle + quick_sort(right)"
   ]
  },
  {
   "cell_type": "code",
   "execution_count": 4,
   "id": "70749ef0",
   "metadata": {},
   "outputs": [
    {
     "name": "stdout",
     "output_type": "stream",
     "text": [
      "Trying:\n",
      "    quick_sort([9,8,7,6,5,4,3,2,1])\n",
      "Expecting:\n",
      "    [1, 2, 3, 4, 5, 6, 7, 8, 9]\n",
      "ok\n",
      "Trying:\n",
      "    quick_sort([3,2,1])\n",
      "Expecting:\n",
      "    [1, 2, 3]\n",
      "ok\n",
      "Trying:\n",
      "    quick_sort([5,6,7,1,2,3])\n",
      "Expecting:\n",
      "    [1, 2, 3, 5, 6, 7]\n",
      "ok\n",
      "1 items had no tests:\n",
      "    __main__\n",
      "1 items passed all tests:\n",
      "   3 tests in __main__.quick_sort\n",
      "3 tests in 2 items.\n",
      "3 passed and 0 failed.\n",
      "Test passed.\n"
     ]
    }
   ],
   "source": [
    "if __name__ == \"__main__\":\n",
    "    testmod(verbose=True)"
   ]
  },
  {
   "cell_type": "code",
   "execution_count": null,
   "id": "d0394b96",
   "metadata": {},
   "outputs": [],
   "source": []
  }
 ],
 "metadata": {
  "kernelspec": {
   "display_name": "Python 3 (ipykernel)",
   "language": "python",
   "name": "python3"
  },
  "language_info": {
   "codemirror_mode": {
    "name": "ipython",
    "version": 3
   },
   "file_extension": ".py",
   "mimetype": "text/x-python",
   "name": "python",
   "nbconvert_exporter": "python",
   "pygments_lexer": "ipython3",
   "version": "3.9.7"
  }
 },
 "nbformat": 4,
 "nbformat_minor": 5
}

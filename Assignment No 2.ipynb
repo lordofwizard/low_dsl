{
 "cells": [
  {
   "cell_type": "markdown",
   "id": "bd97de21",
   "metadata": {},
   "source": [
    "---\n",
    "#### Question  \n",
    "\n",
    "Write a Python program that computes the net amount of a bank account based a transaction log from console input. The transaction log format is shown as following: D 100 W 200 (Withdrawal is not allowed if balance is going negative. Write functions for withdraw and deposit) D means deposit while W means withdrawal.  \n",
    "Suppose the following input is supplied to the program:  \n",
    "D 300  \n",
    "D 300  \n",
    "W 200  \n",
    "D 100  \n",
    "Then, the output should be: 500"
   ]
  },
  {
   "cell_type": "markdown",
   "id": "6b2345b9",
   "metadata": {},
   "source": [
    "---\n",
    "Solved by \n",
    "Name :- Pandharpurkar Advait Deepak  \n",
    "College :- Ajeenkya D. Y. Patil School of Engineering  \n",
    "Division :- SE-B  \n",
    "Roll No :- 11  \n",
    "Teacher's Name :- Prof Sheetal More.  \n",
    "\n",
    "---"
   ]
  },
  {
   "cell_type": "code",
   "execution_count": 1,
   "id": "ccba0e6a",
   "metadata": {},
   "outputs": [],
   "source": [
    "# Basic things to import\n",
    "from doctest import testmod\n",
    "import math"
   ]
  },
  {
   "cell_type": "markdown",
   "id": "155e6392",
   "metadata": {},
   "source": [
    "---\n",
    "Program  \n",
    "\n",
    "---"
   ]
  },
  {
   "cell_type": "code",
   "execution_count": 41,
   "id": "43f364b1",
   "metadata": {},
   "outputs": [],
   "source": [
    "class Bank:\n",
    "    _balance = 0\n",
    "    \n",
    "    def __init__():\n",
    "        pass\n",
    "    \n",
    "    def __init__(self, amount : int):\n",
    "        self._balance = amount\n",
    "        \n",
    "    def __deposit(self, deposit : int):\n",
    "        self._balance += deposit\n",
    "    \n",
    "    def __withdraw(self, withdraw : int):\n",
    "        self._balance -= withdraw\n",
    "    \n",
    "    def __log(self, amount : int , t : str):\n",
    "        if t == \"D\":\n",
    "            print(f\"\"\"\n",
    "Balance Before Transaction :\n",
    "Balance : {self._balance - amount}\n",
    "\n",
    "Amount Added : \n",
    "+ {amount}\n",
    "\n",
    "Balance After Transaction : \n",
    "Balance : {self._balance}\n",
    "{\"*\" * 30}\n",
    "\"\"\")\n",
    "        if t == \"W\":\n",
    "            print(f\"\"\"\n",
    "Balance Before Transaction :\n",
    "Balance : {self._balance + amount}\n",
    "\n",
    "Amount Added : \n",
    "+ {amount}\n",
    "\n",
    "Balance After Transaction : \n",
    "Balance : {self._balance }\n",
    "{\"*\" * 30}\n",
    "\"\"\")\n",
    "    def cmd(self,command : str):\n",
    "        command = command.split()\n",
    "        \n",
    "        if command[0].upper() not in (\"D\", \"W\",\"EXIT\"):\n",
    "            print(\"The given command is Invalid\")\n",
    "            return -1\n",
    "        if command[0] == \"D\":\n",
    "            self.__deposit(int(command[1]))\n",
    "            self.__log(int(command[1]),\"D\")\n",
    "        if command[0] == \"W\":\n",
    "            amount = int(command[1])\n",
    "            if amount <= self._balance:\n",
    "                self.__withdraw(amount)\n",
    "                self.__log(int(command[1]),\"W\")\n",
    "            else:\n",
    "                print(\"Balance is LOW\")\n",
    "        \n",
    "        # This won't ever reach"
   ]
  },
  {
   "cell_type": "code",
   "execution_count": 42,
   "id": "ea5f5a59",
   "metadata": {},
   "outputs": [
    {
     "name": "stdout",
     "output_type": "stream",
     "text": [
      "\n",
      "Balance Before Transaction :\n",
      "Balance : 1000\n",
      "\n",
      "Amount Added : \n",
      "+ 1000\n",
      "\n",
      "Balance After Transaction : \n",
      "Balance : 2000\n",
      "******************************\n",
      "\n",
      "\n",
      "Balance Before Transaction :\n",
      "Balance : 2000\n",
      "\n",
      "Amount Added : \n",
      "+ 69\n",
      "\n",
      "Balance After Transaction : \n",
      "Balance : 1931\n",
      "******************************\n",
      "\n",
      "Balance is LOW\n"
     ]
    }
   ],
   "source": [
    "# Test Case 1\n",
    "\n",
    "State_Bank = Bank(1000)\n",
    "State_Bank.cmd(\"D 1000\")\n",
    "State_Bank.cmd(\"W 69\")\n",
    "State_Bank.cmd(\"W 10000\")"
   ]
  },
  {
   "cell_type": "code",
   "execution_count": null,
   "id": "60eddb8d",
   "metadata": {},
   "outputs": [],
   "source": []
  }
 ],
 "metadata": {
  "kernelspec": {
   "display_name": "Python 3 (ipykernel)",
   "language": "python",
   "name": "python3"
  },
  "language_info": {
   "codemirror_mode": {
    "name": "ipython",
    "version": 3
   },
   "file_extension": ".py",
   "mimetype": "text/x-python",
   "name": "python",
   "nbconvert_exporter": "python",
   "pygments_lexer": "ipython3",
   "version": "3.9.7"
  }
 },
 "nbformat": 4,
 "nbformat_minor": 5
}

{
 "cells": [
  {
   "cell_type": "markdown",
   "id": "bd97de21",
   "metadata": {},
   "source": [
    "---\n",
    "#### Question  \n",
    "Write a python program to compute following computation on matrix:  \n",
    "a) Addition of two matrices  \n",
    "b) Subtraction of two matrices  \n",
    "c) Multiplication of two matrices  \n",
    "d) Transpose of a matrix  "
   ]
  },
  {
   "cell_type": "markdown",
   "id": "6b2345b9",
   "metadata": {},
   "source": [
    "---\n",
    "Solved by \n",
    "Name :- Pandharpurkar Advait Deepak  \n",
    "College :- Ajeenkya D. Y. Patil School of Engineering  \n",
    "Division :- SE-B  \n",
    "Roll No :- 11  \n",
    "Teacher's Name :- Prof Sheetal More.  \n",
    "\n",
    "---"
   ]
  },
  {
   "cell_type": "code",
   "execution_count": 18,
   "id": "ccba0e6a",
   "metadata": {},
   "outputs": [],
   "source": [
    "# Basic things to import\n",
    "from doctest import testmod\n",
    "import math"
   ]
  },
  {
   "cell_type": "markdown",
   "id": "155e6392",
   "metadata": {},
   "source": [
    "---\n",
    "Program  \n",
    "\n",
    "---"
   ]
  },
  {
   "cell_type": "code",
   "execution_count": 12,
   "id": "43f364b1",
   "metadata": {},
   "outputs": [],
   "source": [
    "rows = 4\n",
    "column = 4"
   ]
  },
  {
   "cell_type": "code",
   "execution_count": 13,
   "id": "263cb413",
   "metadata": {},
   "outputs": [],
   "source": [
    "def mat_input() -> list:\n",
    "        global rows, column\n",
    "        mA = [[int(input()) for x in range(column)] for y in range(R)]\n",
    "        return mA"
   ]
  },
  {
   "cell_type": "code",
   "execution_count": 14,
   "id": "b6fd26ac",
   "metadata": {},
   "outputs": [],
   "source": [
    "def mat_print(mA : int):\n",
    "        global rows, column\n",
    "        \n",
    "        for i in range(0,rows):\n",
    "            line = \"| \"\n",
    "            for j in range(0,column):\n",
    "                line += f\"{mA[i][j]} \"\n",
    "            line += \"|\"\n",
    "            print(f\"{line}\")"
   ]
  },
  {
   "cell_type": "code",
   "execution_count": 16,
   "id": "ebb02869",
   "metadata": {},
   "outputs": [],
   "source": [
    "def mat_add(mA : list,mB : list):\n",
    "    \"\"\"Adds two matrix\n",
    "    \n",
    "    >>> mat_add([[1,2,3,4],[5,6,7,8],[9,10,11,12],[13,14,15,16]],[[1,2,3,4],[5,6,7,8],[9,10,11,12],[13,14,15,16]])\n",
    "    [[2, 4, 6, 8], [10, 12, 14, 16], [18, 20, 22, 24], [26, 28, 30, 32]]\n",
    "    \"\"\"\n",
    "    rM = []\n",
    "    for i in range(rows):\n",
    "        x = []\n",
    "        for j in range(column):\n",
    "            x.append(mA[i][j] + mB[i][j])\n",
    "        rM.append(x)\n",
    "    return rM\n"
   ]
  },
  {
   "cell_type": "code",
   "execution_count": 23,
   "id": "34174ad9",
   "metadata": {},
   "outputs": [],
   "source": [
    "def mat_trans(mA : list) -> list:\n",
    "        rM = []\n",
    "        for i in range(rows):\n",
    "            x = []\n",
    "            for j in range(column):\n",
    "                x.append(mA[j][i])\n",
    "            rM.append(x)\n",
    "        return rM"
   ]
  },
  {
   "cell_type": "code",
   "execution_count": 24,
   "id": "63277091",
   "metadata": {},
   "outputs": [],
   "source": [
    "def mat_mul(mA : list, mB : list):\n",
    "        rM = []\n",
    "        for i in range(len(mA)):\n",
    "            for j in range(len(mB[0])):\n",
    "                x = []\n",
    "                for k in range(len(mB)):\n",
    "                    x.append(mA[i][k] * mB[k][j])\n",
    "            rM.append(x)\n",
    "        return rM"
   ]
  },
  {
   "cell_type": "code",
   "execution_count": 25,
   "id": "b21b4f86",
   "metadata": {},
   "outputs": [
    {
     "name": "stdout",
     "output_type": "stream",
     "text": [
      "Trying:\n",
      "    mat_add([[1,2,3,4],[5,6,7,8],[9,10,11,12],[13,14,15,16]],[[1,2,3,4],[5,6,7,8],[9,10,11,12],[13,14,15,16]])\n",
      "Expecting:\n",
      "    [[2, 4, 6, 8], [10, 12, 14, 16], [18, 20, 22, 24], [26, 28, 30, 32]]\n",
      "ok\n",
      "5 items had no tests:\n",
      "    __main__\n",
      "    __main__.mat_input\n",
      "    __main__.mat_mul\n",
      "    __main__.mat_print\n",
      "    __main__.mat_trans\n",
      "1 items passed all tests:\n",
      "   1 tests in __main__.mat_add\n",
      "1 tests in 6 items.\n",
      "1 passed and 0 failed.\n",
      "Test passed.\n"
     ]
    },
    {
     "data": {
      "text/plain": [
       "TestResults(failed=0, attempted=1)"
      ]
     },
     "execution_count": 25,
     "metadata": {},
     "output_type": "execute_result"
    }
   ],
   "source": [
    "#if __name__ == '__main__':\n",
    "testmod(verbose = True)"
   ]
  },
  {
   "cell_type": "code",
   "execution_count": null,
   "id": "30c3dead",
   "metadata": {},
   "outputs": [],
   "source": []
  },
  {
   "cell_type": "code",
   "execution_count": null,
   "id": "ab9f1eeb",
   "metadata": {},
   "outputs": [],
   "source": []
  }
 ],
 "metadata": {
  "kernelspec": {
   "display_name": "Python 3 (ipykernel)",
   "language": "python",
   "name": "python3"
  },
  "language_info": {
   "codemirror_mode": {
    "name": "ipython",
    "version": 3
   },
   "file_extension": ".py",
   "mimetype": "text/x-python",
   "name": "python",
   "nbconvert_exporter": "python",
   "pygments_lexer": "ipython3",
   "version": "3.9.7"
  }
 },
 "nbformat": 4,
 "nbformat_minor": 5
}
